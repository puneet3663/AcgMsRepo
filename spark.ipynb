{
  "cells": [
    {
      "cell_type": "code",
      "source": [
        "pip install pyspark\n",
        "from pyspark.sql import SparkSession\n",
        "spark=SparkSession.builder.getOrCreate()"
      ],
      "outputs": [],
      "execution_count": null,
      "metadata": {
        "gather": {
          "logged": 1733220145956
        }
      }
    },
    {
      "cell_type": "code",
      "source": [
        "data1 = [(\"Alice\", 1, 1000, \"Address1\"),\n",
        "         (\"Bob\", 2, 2000, \"Address2\"),\n",
        "         (\"Charlie\", 3, 3000, \"Address3\"),\n",
        "         (\"David\", 4, 4000, \"Address4\"),\n",
        "         (\"Eve\", 5, 5000, \"Address5\")]\n",
        "\n",
        "data2 = [(1, 25, \"Married\"),\n",
        "         (2, 30, \"Single\"),\n",
        "         (3, 28, \"Married\"),\n",
        "         (4, 32, \"Single\"),\n",
        "         (5, 27, \"Married\")]"
      ],
      "outputs": [],
      "execution_count": 3,
      "metadata": {
        "jupyter": {
          "source_hidden": false,
          "outputs_hidden": false
        },
        "nteract": {
          "transient": {
            "deleting": false
          }
        },
        "gather": {
          "logged": 1733220149678
        }
      }
    },
    {
      "cell_type": "code",
      "source": [
        "df1 = spark.createDataFrame(data1, [\"student_name\", \"id\", \"salary\", \"address\"])\n",
        "df2 = spark.createDataFrame(data2, [\"id\", \"age\", \"married_status\"])\n"
      ],
      "outputs": [],
      "execution_count": 4,
      "metadata": {
        "jupyter": {
          "source_hidden": false,
          "outputs_hidden": false
        },
        "nteract": {
          "transient": {
            "deleting": false
          }
        },
        "gather": {
          "logged": 1733220151786
        }
      }
    },
    {
      "cell_type": "code",
      "source": [
        "joined_df=df1.join(df2,\"id\")\n",
        "joined_df.show()"
      ],
      "outputs": [
        {
          "output_type": "stream",
          "name": "stdout",
          "text": "+---+------------+------+--------+---+--------------+\n| id|student_name|salary| address|age|married_status|\n+---+------------+------+--------+---+--------------+\n|  1|       Alice|  1000|Address1| 25|       Married|\n|  2|         Bob|  2000|Address2| 30|        Single|\n|  3|     Charlie|  3000|Address3| 28|       Married|\n|  4|       David|  4000|Address4| 32|        Single|\n|  5|         Eve|  5000|Address5| 27|       Married|\n+---+------------+------+--------+---+--------------+\n\n"
        }
      ],
      "execution_count": 24,
      "metadata": {
        "jupyter": {
          "source_hidden": false,
          "outputs_hidden": false
        },
        "nteract": {
          "transient": {
            "deleting": false
          }
        },
        "gather": {
          "logged": 1733223735955
        }
      }
    },
    {
      "cell_type": "markdown",
      "source": [
        "# <mark>_<u>**Broad Case Join**</u>_</mark>"
      ],
      "metadata": {
        "nteract": {
          "transient": {
            "deleting": false
          }
        }
      }
    },
    {
      "cell_type": "code",
      "source": [
        "data3 = [(1, \"DeptA\"),\n",
        "         (2, \"DeptB\"),\n",
        "         (3, \"DeptC\"),\n",
        "         (4, \"DeptD\"),\n",
        "         (5, \"DeptE\")]\n",
        "\n",
        "df3=spark.createDataFrame(data3, [\"id\",\"department\"])\n",
        "\n",
        "joined_df = df1.join(df2, \"id\").join(df3.hint(\"broadcast\"), \"id\")\n",
        "\n",
        "joined_df.show()"
      ],
      "outputs": [
        {
          "output_type": "stream",
          "name": "stdout",
          "text": "+---+------------+------+--------+---+--------------+----------+\n| id|student_name|salary| address|age|married_status|department|\n+---+------------+------+--------+---+--------------+----------+\n|  1|       Alice|  1000|Address1| 25|       Married|     DeptA|\n|  2|         Bob|  2000|Address2| 30|        Single|     DeptB|\n|  3|     Charlie|  3000|Address3| 28|       Married|     DeptC|\n|  4|       David|  4000|Address4| 32|        Single|     DeptD|\n|  5|         Eve|  5000|Address5| 27|       Married|     DeptE|\n+---+------------+------+--------+---+--------------+----------+\n\n"
        }
      ],
      "execution_count": 25,
      "metadata": {
        "jupyter": {
          "source_hidden": false,
          "outputs_hidden": false
        },
        "nteract": {
          "transient": {
            "deleting": false
          }
        },
        "gather": {
          "logged": 1733223745786
        }
      }
    },
    {
      "cell_type": "markdown",
      "source": [
        "# <mark>_<u>**Distinct Function **</u>_</mark>"
      ],
      "metadata": {
        "nteract": {
          "transient": {
            "deleting": false
          }
        }
      }
    },
    {
      "cell_type": "code",
      "source": [
        "distinctDF = joined_df.distinct()\n",
        "print(\"Distinct count: \"+str(distinctDF.count()))\n",
        "distinctDF.show(truncate=False)"
      ],
      "outputs": [
        {
          "output_type": "stream",
          "name": "stdout",
          "text": "Distinct count: 5\n+---+------------+------+--------+---+--------------+----------+\n|id |student_name|salary|address |age|married_status|department|\n+---+------------+------+--------+---+--------------+----------+\n|1  |Alice       |1000  |Address1|25 |Married       |DeptA     |\n|2  |Bob         |2000  |Address2|30 |Single        |DeptB     |\n|3  |Charlie     |3000  |Address3|28 |Married       |DeptC     |\n|4  |David       |4000  |Address4|32 |Single        |DeptD     |\n|5  |Eve         |5000  |Address5|27 |Married       |DeptE     |\n+---+------------+------+--------+---+--------------+----------+\n\n"
        }
      ],
      "execution_count": 27,
      "metadata": {
        "jupyter": {
          "source_hidden": false,
          "outputs_hidden": false
        },
        "nteract": {
          "transient": {
            "deleting": false
          }
        },
        "gather": {
          "logged": 1733223776205
        }
      }
    },
    {
      "cell_type": "markdown",
      "source": [
        "# <mark>_<u>**dropDuplicates**</u>_</mark>"
      ],
      "metadata": {
        "nteract": {
          "transient": {
            "deleting": false
          }
        }
      }
    },
    {
      "cell_type": "code",
      "source": [
        "df2 = joined_df.dropDuplicates()\n",
        "print(\"Distinct count: \"+str(df2.count()))\n",
        "df2.show(truncate=False)"
      ],
      "outputs": [
        {
          "output_type": "stream",
          "name": "stdout",
          "text": "Distinct count: 5\n"
        },
        {
          "output_type": "stream",
          "name": "stderr",
          "text": "\r[Stage 57:>                                                         (0 + 2) / 2]\r\r                                                                                \r"
        }
      ],
      "execution_count": 28,
      "metadata": {
        "jupyter": {
          "source_hidden": false,
          "outputs_hidden": false
        },
        "nteract": {
          "transient": {
            "deleting": false
          }
        },
        "gather": {
          "logged": 1733223806626
        }
      }
    },
    {
      "cell_type": "markdown",
      "source": [
        "# <mark>_<u>**dropDuplicates_2_Columns**</u>_</mark>"
      ],
      "metadata": {
        "nteract": {
          "transient": {
            "deleting": false
          }
        }
      }
    },
    {
      "cell_type": "code",
      "source": [
        "dropDisDF = joined_df.dropDuplicates([\"department\",\"salary\"])\n",
        "print(\"Distinct count of department & salary : \"+str(dropDisDF.count()))\n",
        "dropDisDF.show(truncate=False)"
      ],
      "outputs": [
        {
          "output_type": "stream",
          "name": "stdout",
          "text": "Distinct count of department & salary : 5\n+---+------------+------+--------+---+--------------+----------+\n|id |student_name|salary|address |age|married_status|department|\n+---+------------+------+--------+---+--------------+----------+\n|1  |Alice       |1000  |Address1|25 |Married       |DeptA     |\n|2  |Bob         |2000  |Address2|30 |Single        |DeptB     |\n|3  |Charlie     |3000  |Address3|28 |Married       |DeptC     |\n|4  |David       |4000  |Address4|32 |Single        |DeptD     |\n|5  |Eve         |5000  |Address5|27 |Married       |DeptE     |\n+---+------------+------+--------+---+--------------+----------+\n\n"
        }
      ],
      "execution_count": 29,
      "metadata": {
        "jupyter": {
          "source_hidden": false,
          "outputs_hidden": false
        },
        "nteract": {
          "transient": {
            "deleting": false
          }
        },
        "gather": {
          "logged": 1733223835689
        }
      }
    },
    {
      "cell_type": "markdown",
      "source": [
        "# <mark>_<u>**repartition**</u>_</mark>"
      ],
      "metadata": {
        "nteract": {
          "transient": {
            "deleting": false
          }
        }
      }
    },
    {
      "cell_type": "code",
      "source": [
        "df2 = joined_df.repartition(6)\n",
        "print(df2.rdd.getNumPartitions())"
      ],
      "outputs": [
        {
          "output_type": "stream",
          "name": "stdout",
          "text": "6\n"
        }
      ],
      "execution_count": 30,
      "metadata": {
        "jupyter": {
          "source_hidden": false,
          "outputs_hidden": false
        },
        "nteract": {
          "transient": {
            "deleting": false
          }
        },
        "gather": {
          "logged": 1733223867947
        }
      }
    },
    {
      "cell_type": "markdown",
      "source": [
        "# <mark>_<u>**UDF Example**</u>_</mark>"
      ],
      "metadata": {
        "nteract": {
          "transient": {
            "deleting": false
          }
        }
      }
    },
    {
      "cell_type": "code",
      "source": [
        "columns = [\"Seqno\",\"Name\"]\n",
        "data = [(\"1\", \"john jones\"),\n",
        "    (\"2\", \"tracey smith\"),\n",
        "    (\"3\", \"amy sanders\")]\n",
        "\n",
        "df = spark.createDataFrame(data=data,schema=columns)\n",
        "\n",
        "df.show(truncate=False)\n",
        "\n",
        "from pyspark.sql.functions import col, udf\n",
        "from pyspark.sql.types import StringType\n",
        "\n",
        "def convertCase(str):\n",
        "    resStr=\"\"\n",
        "    arr = str.split(\" \")\n",
        "    for x in arr:\n",
        "       resStr= resStr + x[0:1].upper() + x[1:len(x)] + \" \"\n",
        "    return resStr \n",
        "\n",
        "spark.udf.register(\"convertUDF\", convertCase,StringType())\n",
        "df.createOrReplaceTempView(\"NAME_TABLE\")\n",
        "spark.sql(\"select Seqno, convertUDF(Name) as Name from NAME_TABLE\") \\\n",
        "     .show(truncate=False)"
      ],
      "outputs": [
        {
          "output_type": "stream",
          "name": "stdout",
          "text": "+-----+------------+\n|Seqno|Name        |\n+-----+------------+\n|1    |john jones  |\n|2    |tracey smith|\n|3    |amy sanders |\n+-----+------------+\n\n+-----+-------------+\n|Seqno|Name         |\n+-----+-------------+\n|1    |John Jones   |\n|2    |Tracey Smith |\n|3    |Amy Sanders  |\n+-----+-------------+\n\n"
        },
        {
          "output_type": "stream",
          "name": "stderr",
          "text": "\r[Stage 94:>                                                         (0 + 1) / 1]\r"
        }
      ],
      "execution_count": 32,
      "metadata": {
        "jupyter": {
          "source_hidden": false,
          "outputs_hidden": false
        },
        "nteract": {
          "transient": {
            "deleting": false
          }
        },
        "gather": {
          "logged": 1733224290234
        }
      }
    }
  ],
  "metadata": {
    "kernelspec": {
      "name": "python310-sdkv2",
      "language": "python",
      "display_name": "Python 3.10 - SDK v2"
    },
    "language_info": {
      "name": "python",
      "version": "3.10.14",
      "mimetype": "text/x-python",
      "codemirror_mode": {
        "name": "ipython",
        "version": 3
      },
      "pygments_lexer": "ipython3",
      "nbconvert_exporter": "python",
      "file_extension": ".py"
    },
    "microsoft": {
      "ms_spell_check": {
        "ms_spell_check_language": "en"
      },
      "host": {
        "AzureML": {
          "notebookHasBeenCompleted": true
        }
      }
    },
    "kernel_info": {
      "name": "python310-sdkv2"
    },
    "nteract": {
      "version": "nteract-front-end@1.0.0"
    }
  },
  "nbformat": 4,
  "nbformat_minor": 2
}
