{
  "cells": [
    {
      "cell_type": "code",
      "source": [
        "pip install pyspark"
      ],
      "outputs": [],
      "execution_count": null,
      "metadata": {
        "gather": {
          "logged": 1733197866701
        }
      }
    },
    {
      "cell_type": "code",
      "source": [
        "from pyspark.sql import SparkSession\n",
        "spark=SparkSession.builder.getOrCreate()"
      ],
      "outputs": [],
      "execution_count": null,
      "metadata": {
        "jupyter": {
          "source_hidden": false,
          "outputs_hidden": false
        },
        "nteract": {
          "transient": {
            "deleting": false
          }
        },
        "gather": {
          "logged": 1733197889668
        }
      }
    },
    {
      "cell_type": "code",
      "source": [
        "data1 = [(\"Alice\", 1, 1000, \"Address1\"),\n",
        "         (\"Bob\", 2, 2000, \"Address2\"),\n",
        "         (\"Charlie\", 3, 3000, \"Address3\"),\n",
        "         (\"David\", 4, 4000, \"Address4\"),\n",
        "         (\"Eve\", 5, 5000, \"Address5\")]\n",
        "\n",
        "data2 = [(1, 25, \"Married\"),\n",
        "         (2, 30, \"Single\"),\n",
        "         (3, 28, \"Married\"),\n",
        "         (4, 32, \"Single\"),\n",
        "         (5, 27, \"Married\")]"
      ],
      "outputs": [],
      "execution_count": 2,
      "metadata": {
        "jupyter": {
          "source_hidden": false,
          "outputs_hidden": false
        },
        "nteract": {
          "transient": {
            "deleting": false
          }
        },
        "gather": {
          "logged": 1733197834984
        }
      }
    },
    {
      "cell_type": "code",
      "source": [
        "df1 = spark.createDataFrame(data1, [\"student_name\", \"id\", \"salary\", \"address\"])\n",
        "df2 = spark.createDataFrame(data2, [\"id\", \"age\", \"married_status\"])\n"
      ],
      "outputs": [],
      "execution_count": 7,
      "metadata": {
        "jupyter": {
          "source_hidden": false,
          "outputs_hidden": false
        },
        "nteract": {
          "transient": {
            "deleting": false
          }
        },
        "gather": {
          "logged": 1733197902279
        }
      }
    },
    {
      "cell_type": "code",
      "source": [
        "joined_df=df1.join(df2,\"id\")\n",
        "joined_df.show()"
      ],
      "outputs": [
        {
          "output_type": "stream",
          "name": "stderr",
          "text": "                                                                                \r"
        },
        {
          "output_type": "stream",
          "name": "stdout",
          "text": "+---+------------+------+--------+---+--------------+\n| id|student_name|salary| address|age|married_status|\n+---+------------+------+--------+---+--------------+\n|  1|       Alice|  1000|Address1| 25|       Married|\n|  2|         Bob|  2000|Address2| 30|        Single|\n|  3|     Charlie|  3000|Address3| 28|       Married|\n|  4|       David|  4000|Address4| 32|        Single|\n|  5|         Eve|  5000|Address5| 27|       Married|\n+---+------------+------+--------+---+--------------+\n\n"
        }
      ],
      "execution_count": 8,
      "metadata": {
        "jupyter": {
          "source_hidden": false,
          "outputs_hidden": false
        },
        "nteract": {
          "transient": {
            "deleting": false
          }
        },
        "gather": {
          "logged": 1733197910435
        }
      }
    },
    {
      "cell_type": "markdown",
      "source": [
        "# <mark>_<u>**Broad Case Join**</u>_</mark>"
      ],
      "metadata": {
        "nteract": {
          "transient": {
            "deleting": false
          }
        }
      }
    },
    {
      "cell_type": "code",
      "source": [
        "data3 = [(1, \"DeptA\"),\n",
        "         (2, \"DeptB\"),\n",
        "         (3, \"DeptC\"),\n",
        "         (4, \"DeptD\"),\n",
        "         (5, \"DeptE\")]\n",
        "\n",
        "df3=spark.createDataFrame(data3, [\"id\",\"department\"])\n",
        "\n",
        "joined_df = df1.join(df2, \"id\").join(df3.hint(\"broadcast\"), \"id\")\n",
        "\n",
        "joined_df.show()"
      ],
      "outputs": [
        {
          "output_type": "stream",
          "name": "stdout",
          "text": "+---+------------+------+--------+---+--------------+----------+\n| id|student_name|salary| address|age|married_status|department|\n+---+------------+------+--------+---+--------------+----------+\n|  1|       Alice|  1000|Address1| 25|       Married|     DeptA|\n|  2|         Bob|  2000|Address2| 30|        Single|     DeptB|\n|  3|     Charlie|  3000|Address3| 28|       Married|     DeptC|\n|  4|       David|  4000|Address4| 32|        Single|     DeptD|\n|  5|         Eve|  5000|Address5| 27|       Married|     DeptE|\n+---+------------+------+--------+---+--------------+----------+\n\n"
        }
      ],
      "execution_count": 9,
      "metadata": {
        "jupyter": {
          "source_hidden": false,
          "outputs_hidden": false
        },
        "nteract": {
          "transient": {
            "deleting": false
          }
        },
        "gather": {
          "logged": 1733197917833
        }
      }
    }
  ],
  "metadata": {
    "kernelspec": {
      "name": "python310-sdkv2",
      "language": "python",
      "display_name": "Python 3.10 - SDK v2"
    },
    "language_info": {
      "name": "python",
      "version": "3.10.14",
      "mimetype": "text/x-python",
      "codemirror_mode": {
        "name": "ipython",
        "version": 3
      },
      "pygments_lexer": "ipython3",
      "nbconvert_exporter": "python",
      "file_extension": ".py"
    },
    "microsoft": {
      "ms_spell_check": {
        "ms_spell_check_language": "en"
      }
    },
    "kernel_info": {
      "name": "python310-sdkv2"
    },
    "nteract": {
      "version": "nteract-front-end@1.0.0"
    }
  },
  "nbformat": 4,
  "nbformat_minor": 2
}
